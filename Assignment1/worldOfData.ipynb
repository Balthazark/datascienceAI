{
 "cells": [
  {
   "cell_type": "markdown",
   "metadata": {},
   "source": [
    "Task 1)\n",
    "\n",
    "a) We made the decision to plot the life expectancy on the X-axis and the GDP per capita on the Y-axis. We made the this decision as we wanted to investigate if we could find a correlation between a person life expectancy and their respective countries GBP per capita. As GBP is one way measuring prosperity in a country we assumed that higher GDP per capita would imply a higher standard of living and thus also corelate to public health and a higher life expectancy.\n",
    "\n",
    "\n",
    "b)\n",
    "The scatter plot can be interpreted to show a corelation between GDP per capita and life expectancy where a higher GDP per capita corelate to a higher life expectancy. This is reasonable in our opinion a country with a more developed economy it is reasonable to assume that they also have a more developed healthcare system. With a higher GDP per capita the assumption could be made that the country is also more developed in a social context. Another observation is that we noticed a break point around the life expectancy between 70 and 80. "
   ]
  },
  {
   "cell_type": "code",
   "execution_count": 16,
   "metadata": {},
   "outputs": [
    {
     "data": {
      "text/html": [
       "<div>\n",
       "<style scoped>\n",
       "    .dataframe tbody tr th:only-of-type {\n",
       "        vertical-align: middle;\n",
       "    }\n",
       "\n",
       "    .dataframe tbody tr th {\n",
       "        vertical-align: top;\n",
       "    }\n",
       "\n",
       "    .dataframe thead th {\n",
       "        text-align: right;\n",
       "    }\n",
       "</style>\n",
       "<table border=\"1\" class=\"dataframe\">\n",
       "  <thead>\n",
       "    <tr style=\"text-align: right;\">\n",
       "      <th></th>\n",
       "      <th>Country</th>\n",
       "      <th>Life expectancy</th>\n",
       "      <th>GDP per capita</th>\n",
       "    </tr>\n",
       "  </thead>\n",
       "  <tbody>\n",
       "    <tr>\n",
       "      <th>0</th>\n",
       "      <td>Afghanistan</td>\n",
       "      <td>64.833</td>\n",
       "      <td>2065.036235</td>\n",
       "    </tr>\n",
       "    <tr>\n",
       "      <th>1</th>\n",
       "      <td>Albania</td>\n",
       "      <td>78.573</td>\n",
       "      <td>13671.488422</td>\n",
       "    </tr>\n",
       "    <tr>\n",
       "      <th>2</th>\n",
       "      <td>Algeria</td>\n",
       "      <td>76.880</td>\n",
       "      <td>11510.557088</td>\n",
       "    </tr>\n",
       "    <tr>\n",
       "      <th>3</th>\n",
       "      <td>Angola</td>\n",
       "      <td>61.147</td>\n",
       "      <td>6670.331458</td>\n",
       "    </tr>\n",
       "    <tr>\n",
       "      <th>4</th>\n",
       "      <td>Antigua and Barbuda</td>\n",
       "      <td>77.016</td>\n",
       "      <td>21548.725008</td>\n",
       "    </tr>\n",
       "    <tr>\n",
       "      <th>...</th>\n",
       "      <td>...</td>\n",
       "      <td>...</td>\n",
       "      <td>...</td>\n",
       "    </tr>\n",
       "    <tr>\n",
       "      <th>189</th>\n",
       "      <td>Vanuatu</td>\n",
       "      <td>70.474</td>\n",
       "      <td>3117.678832</td>\n",
       "    </tr>\n",
       "    <tr>\n",
       "      <th>190</th>\n",
       "      <td>Vietnam</td>\n",
       "      <td>75.400</td>\n",
       "      <td>8041.178384</td>\n",
       "    </tr>\n",
       "    <tr>\n",
       "      <th>191</th>\n",
       "      <td>World</td>\n",
       "      <td>72.584</td>\n",
       "      <td>16915.287846</td>\n",
       "    </tr>\n",
       "    <tr>\n",
       "      <th>192</th>\n",
       "      <td>Zambia</td>\n",
       "      <td>63.886</td>\n",
       "      <td>3470.448024</td>\n",
       "    </tr>\n",
       "    <tr>\n",
       "      <th>193</th>\n",
       "      <td>Zimbabwe</td>\n",
       "      <td>61.490</td>\n",
       "      <td>3027.656038</td>\n",
       "    </tr>\n",
       "  </tbody>\n",
       "</table>\n",
       "<p>194 rows × 3 columns</p>\n",
       "</div>"
      ],
      "text/plain": [
       "                 Country  Life expectancy  GDP per capita\n",
       "0            Afghanistan           64.833     2065.036235\n",
       "1                Albania           78.573    13671.488422\n",
       "2                Algeria           76.880    11510.557088\n",
       "3                 Angola           61.147     6670.331458\n",
       "4    Antigua and Barbuda           77.016    21548.725008\n",
       "..                   ...              ...             ...\n",
       "189              Vanuatu           70.474     3117.678832\n",
       "190              Vietnam           75.400     8041.178384\n",
       "191                World           72.584    16915.287846\n",
       "192               Zambia           63.886     3470.448024\n",
       "193             Zimbabwe           61.490     3027.656038\n",
       "\n",
       "[194 rows x 3 columns]"
      ]
     },
     "execution_count": 16,
     "metadata": {},
     "output_type": "execute_result"
    }
   ],
   "source": [
    "import matplotlib as mpl\n",
    "import matplotlib.pyplot as plt\n",
    "import numpy as np\n",
    "import csv\n",
    "import pandas as pd\n",
    "\n",
    "#Helper function to read a dataset file, and return\n",
    "#the result as an array.\n",
    "def readfile(f):\n",
    "    with open(f) as file:\n",
    "        result = []\n",
    "        reader = csv.reader(file)\n",
    "        for row in reader:\n",
    "            result.append(row)\n",
    "    return result\n",
    "\n",
    "    \n",
    "lifeExp = readfile('life-expectancy.csv')\n",
    "gdp = readfile('gdp-per-capita-worldbank.csv')\n",
    "result = []\n",
    "\n",
    "rowtmp = [\"\"]\n",
    "for rows in reversed(lifeExp):\n",
    "    for row in reversed(gdp):\n",
    "        if rows[0] == row[0] and rows[2] == row[2] and rowtmp[0] != rows[0]:\n",
    "            tmp  = [rows[0],rows[3],row[3]] \n",
    "            result.append(tmp)\n",
    "            rowtmp = rows\n",
    "            break\n",
    "\n"
   ]
  },
  {
   "cell_type": "code",
   "execution_count": 38,
   "metadata": {},
   "outputs": [
    {
     "data": {
      "image/png": "[encoded data removed]",
      "text/plain": [
       "<Figure size 432x288 with 1 Axes>"
      ]
     },
     "metadata": {
      "needs_background": "light"
     },
     "output_type": "display_data"
    }
   ],
   "source": [
    "cleanedData = pd.read_csv(\"output.csv\")\n",
    "\n",
    "gdpData = cleanedData['GDP per capita']\n",
    "lifeData = cleanedData['Life expectancy']\n",
    "\n",
    "gdpData = list(map(float, gdpData))\n",
    "lifeData = list(map(float, lifeData))\n",
    "\n",
    "plt.scatter(lifeData, gdpData)\n",
    "plt.title('GDP vs Life expectancy')\n",
    "plt.show()\n"
   ]
  }
 ],
 "metadata": {
  "interpreter": {
   "hash": "e7370f93d1d0cde622a1f8e1c04877d8463912d04d973331ad4851f04de6915a"
  },
  "kernelspec": {
   "display_name": "Python 3.10.1 64-bit",
   "language": "python",
   "name": "python3"
  },
  "language_info": {
   "codemirror_mode": {
    "name": "ipython",
    "version": 3
   },
   "file_extension": ".py",
   "mimetype": "text/x-python",
   "name": "python",
   "nbconvert_exporter": "python",
   "pygments_lexer": "ipython3",
   "version": "3.10.1"
  },
  "orig_nbformat": 4
 },
 "nbformat": 4,
 "nbformat_minor": 2
}
