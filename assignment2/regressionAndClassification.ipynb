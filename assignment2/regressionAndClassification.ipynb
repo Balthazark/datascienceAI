{
 "cells": [
  {
   "cell_type": "code",
   "execution_count": 5,
   "metadata": {},
   "outputs": [
    {
     "ename": "ImportError",
     "evalue": "cannot import name 'safe_indexing' from 'sklearn.utils' (/usr/lib/python3.10/site-packages/sklearn/utils/__init__.py)",
     "output_type": "error",
     "traceback": [
      "\u001b[0;31m---------------------------------------------------------------------------\u001b[0m",
      "\u001b[0;31mImportError\u001b[0m                               Traceback (most recent call last)",
      "Input \u001b[0;32mIn [5]\u001b[0m, in \u001b[0;36m<module>\u001b[0;34m\u001b[0m\n\u001b[1;32m      8\u001b[0m \u001b[38;5;28;01mexcept\u001b[39;00m \u001b[38;5;167;01mImportError\u001b[39;00m:\n\u001b[1;32m      9\u001b[0m     \u001b[38;5;28;01mfrom\u001b[39;00m \u001b[38;5;21;01msklearn\u001b[39;00m\u001b[38;5;21;01m.\u001b[39;00m\u001b[38;5;21;01mutils\u001b[39;00m \u001b[38;5;28;01mimport\u001b[39;00m _safe_indexing\n\u001b[0;32m---> 10\u001b[0m \u001b[38;5;28;01mfrom\u001b[39;00m \u001b[38;5;21;01myellowbrick\u001b[39;00m\u001b[38;5;21;01m.\u001b[39;00m\u001b[38;5;21;01mregressor\u001b[39;00m \u001b[38;5;28;01mimport\u001b[39;00m ResidualsPlot\n\u001b[1;32m     13\u001b[0m \u001b[38;5;66;03m#From sckit wiki\u001b[39;00m\n\u001b[1;32m     15\u001b[0m data \u001b[38;5;241m=\u001b[39m pd\u001b[38;5;241m.\u001b[39mread_csv(\u001b[38;5;124m'\u001b[39m\u001b[38;5;124mDatasetRegression.csv\u001b[39m\u001b[38;5;124m'\u001b[39m)\n",
      "File \u001b[0;32m/usr/lib/python3.10/site-packages/yellowbrick/__init__.py:39\u001b[0m, in \u001b[0;36m<module>\u001b[0;34m\u001b[0m\n\u001b[1;32m     37\u001b[0m \u001b[38;5;28;01mfrom\u001b[39;00m \u001b[38;5;21;01m.\u001b[39;00m\u001b[38;5;21;01manscombe\u001b[39;00m \u001b[38;5;28;01mimport\u001b[39;00m anscombe\n\u001b[1;32m     38\u001b[0m \u001b[38;5;28;01mfrom\u001b[39;00m \u001b[38;5;21;01m.\u001b[39;00m\u001b[38;5;21;01mdatasaurus\u001b[39;00m \u001b[38;5;28;01mimport\u001b[39;00m datasaurus\n\u001b[0;32m---> 39\u001b[0m \u001b[38;5;28;01mfrom\u001b[39;00m \u001b[38;5;21;01m.\u001b[39;00m\u001b[38;5;21;01mclassifier\u001b[39;00m \u001b[38;5;28;01mimport\u001b[39;00m ROCAUC, ClassBalance, ClassificationScoreVisualizer\n\u001b[1;32m     41\u001b[0m \u001b[38;5;66;03m# from .classifier import crplot, rocplot\u001b[39;00m\n\u001b[1;32m     42\u001b[0m \u001b[38;5;66;03m# from .regressor import peplot, residuals_plot\u001b[39;00m\n\u001b[1;32m     43\u001b[0m \n\u001b[0;32m   (...)\u001b[0m\n\u001b[1;32m     46\u001b[0m \u001b[38;5;66;03m## Set default aesthetics\u001b[39;00m\n\u001b[1;32m     47\u001b[0m \u001b[38;5;66;03m##########################################################################\u001b[39;00m\n\u001b[1;32m     49\u001b[0m set_aesthetic()  \u001b[38;5;66;03m# NOTE: modifies mpl.rcParams\u001b[39;00m\n",
      "File \u001b[0;32m/usr/lib/python3.10/site-packages/yellowbrick/classifier/__init__.py:30\u001b[0m, in \u001b[0;36m<module>\u001b[0;34m\u001b[0m\n\u001b[1;32m     28\u001b[0m \u001b[38;5;28;01mfrom\u001b[39;00m \u001b[38;5;21;01m.\u001b[39;00m\u001b[38;5;21;01mconfusion_matrix\u001b[39;00m \u001b[38;5;28;01mimport\u001b[39;00m ConfusionMatrix, confusion_matrix\n\u001b[1;32m     29\u001b[0m \u001b[38;5;28;01mfrom\u001b[39;00m \u001b[38;5;21;01m.\u001b[39;00m\u001b[38;5;21;01mrocauc\u001b[39;00m \u001b[38;5;28;01mimport\u001b[39;00m ROCAUC, roc_auc\n\u001b[0;32m---> 30\u001b[0m \u001b[38;5;28;01mfrom\u001b[39;00m \u001b[38;5;21;01m.\u001b[39;00m\u001b[38;5;21;01mthreshold\u001b[39;00m \u001b[38;5;28;01mimport\u001b[39;00m DiscriminationThreshold, discrimination_threshold\n\u001b[1;32m     31\u001b[0m \u001b[38;5;28;01mfrom\u001b[39;00m \u001b[38;5;21;01m.\u001b[39;00m\u001b[38;5;21;01mprcurve\u001b[39;00m \u001b[38;5;28;01mimport\u001b[39;00m PrecisionRecallCurve, PRCurve, precision_recall_curve\n\u001b[1;32m     33\u001b[0m \u001b[38;5;66;03m## Import from target for backward compatibility and classifier association\u001b[39;00m\n",
      "File \u001b[0;32m/usr/lib/python3.10/site-packages/yellowbrick/classifier/threshold.py:30\u001b[0m, in \u001b[0;36m<module>\u001b[0;34m\u001b[0m\n\u001b[1;32m     28\u001b[0m \u001b[38;5;28;01mfrom\u001b[39;00m \u001b[38;5;21;01msklearn\u001b[39;00m\u001b[38;5;21;01m.\u001b[39;00m\u001b[38;5;21;01mmodel_selection\u001b[39;00m \u001b[38;5;28;01mimport\u001b[39;00m ShuffleSplit\n\u001b[1;32m     29\u001b[0m \u001b[38;5;28;01mfrom\u001b[39;00m \u001b[38;5;21;01msklearn\u001b[39;00m\u001b[38;5;21;01m.\u001b[39;00m\u001b[38;5;21;01mmetrics\u001b[39;00m \u001b[38;5;28;01mimport\u001b[39;00m precision_recall_curve\n\u001b[0;32m---> 30\u001b[0m \u001b[38;5;28;01mfrom\u001b[39;00m \u001b[38;5;21;01msklearn\u001b[39;00m\u001b[38;5;21;01m.\u001b[39;00m\u001b[38;5;21;01mutils\u001b[39;00m \u001b[38;5;28;01mimport\u001b[39;00m indexable, safe_indexing\n\u001b[1;32m     31\u001b[0m \u001b[38;5;28;01mfrom\u001b[39;00m \u001b[38;5;21;01msklearn\u001b[39;00m\u001b[38;5;21;01m.\u001b[39;00m\u001b[38;5;21;01mutils\u001b[39;00m\u001b[38;5;21;01m.\u001b[39;00m\u001b[38;5;21;01mmulticlass\u001b[39;00m \u001b[38;5;28;01mimport\u001b[39;00m type_of_target\n\u001b[1;32m     33\u001b[0m \u001b[38;5;28;01mfrom\u001b[39;00m \u001b[38;5;21;01myellowbrick\u001b[39;00m\u001b[38;5;21;01m.\u001b[39;00m\u001b[38;5;21;01mbase\u001b[39;00m \u001b[38;5;28;01mimport\u001b[39;00m ModelVisualizer\n",
      "\u001b[0;31mImportError\u001b[0m: cannot import name 'safe_indexing' from 'sklearn.utils' (/usr/lib/python3.10/site-packages/sklearn/utils/__init__.py)"
     ]
    }
   ],
   "source": [
    "import pandas as pd\n",
    "from sklearn import linear_model\n",
    "import matplotlib.pyplot as plt\n",
    "import numpy as np\n",
    "try:\n",
    "    # See #1137: this allows compatibility for scikit-learn >= 0.24\n",
    "    from sklearn.utils import safe_indexing\n",
    "except ImportError:\n",
    "    from sklearn.utils import _safe_indexing\n",
    "from yellowbrick.regressor import ResidualsPlot\n",
    "\n",
    "\n",
    "#From sckit wiki\n",
    "\n",
    "data = pd.read_csv('DatasetRegression.csv')\n",
    "livingArea = list(map(int,data['Living Area']))\n",
    "price = list(map(int,data['Price']))\n",
    "\n",
    "livingArea = np.reshape(livingArea,(-1,1))\n",
    "price = np.reshape(price,(-1,1))\n",
    "\n",
    "\n",
    "#print(livingArea)\n",
    "#print(price)\n",
    "\n",
    "reg = linear_model.LinearRegression()\n",
    "reg.fit(livingArea,price)\n",
    "pricePredict = reg.predict(livingArea)\n",
    "\n",
    "print(\"x: \\n\",reg.coef_[0][0])\n",
    "print(\"Y intercept \\n\", reg.intercept_[0])\n",
    "\n",
    "plt.scatter(livingArea,price)\n",
    "plt.plot(livingArea,pricePredict,color='red')\n",
    "plt.show()\n",
    "\n",
    "print(\"Value of 100m2: \\n\",reg.predict([[100]]))\n",
    "print(\"Value of 150m2: \\n\",reg.predict([[150]]))\n",
    "print(\"Value of 200m2: \\n\",reg.predict([[200]]))\n",
    "\n",
    "model = model = Ridge()\n",
    "visualizer = ResidualsPlot(model)\n",
    "\n",
    "visualizer.fit(reg)\n",
    "visualizer.score(livingArea,price)\n",
    "visualizer.show()"
   ]
  }
 ],
 "metadata": {
  "interpreter": {
   "hash": "d2152fd7f0bbc62aa1baff8c990435d1e2c7175d001561303988032604c11a48"
  },
  "kernelspec": {
   "display_name": "Python 3.10.1 64-bit",
   "language": "python",
   "name": "python3"
  },
  "language_info": {
   "codemirror_mode": {
    "name": "ipython",
    "version": 3
   },
   "file_extension": ".py",
   "mimetype": "text/x-python",
   "name": "python",
   "nbconvert_exporter": "python",
   "pygments_lexer": "ipython3",
   "version": "3.10.2"
  },
  "orig_nbformat": 4
 },
 "nbformat": 4,
 "nbformat_minor": 2
}
